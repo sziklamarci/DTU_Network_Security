{
 "cells": [
  {
   "attachments": {},
   "cell_type": "markdown",
   "metadata": {},
   "source": [
    "### <u>**OverTheWire Bandit game documentation**</u>\n",
    "Link: https://overthewire.org/wargames/bandit/<br>\n",
    "Read the description first, it's pretty self explanatory."
   ]
  },
  {
   "attachments": {},
   "cell_type": "markdown",
   "metadata": {},
   "source": [
    "#### Level0\n",
    "https://overthewire.org/wargames/bandit/bandit0.html<br>\n",
    "\n",
    "This is the first step, you have to connect to the server of OverTheWire.\n",
    "Since you have to do the tasks on Linux, it's easier to do the whole thing on Linux (I used Parrot Security 5.1.2).\n",
    "1. Open up a Terminal and type <br>`ssh bandit0@bandit.labs.overthewire.org -p2220 -y` <br>\n",
    "- Make sure to have ssh server installed on your machine (see: https://ubuntu.com/server/docs/service-openssh), so the first command works.<br>\n",
    "- Then you provide username@hostname, host port with flag -p and -y to skip any security if you trust the source.\n",
    "- You will be asked for a password, provide `bandit0` for the first level. If done correctly, you're connected to the server, you should see a welcome message and `bandit0@bandit:~$` at the start of the line.\n",
    "- Ready to move on to Level 1."
   ]
  },
  {
   "attachments": {},
   "cell_type": "markdown",
   "metadata": {},
   "source": [
    "#### Level1\n",
    "https://overthewire.org/wargames/bandit/bandit1.html<br>\n",
    "\n",
    "Now find the password for the next user on the current server.\n",
    "1. `ls` command lists the available folders and files under the working directory. You should see a single file called `readme`.\n",
    "2. You can have a quick look at the content of a file with the `cat` (concatenate) command. Type `cat readme` (use tab key to autocomplete file names), that should give you the password of user bandit1.\n",
    "<details>\n",
    "<summary>!!SPOILER!! Password found:</summary>\n",
    "NH2SXQwcBdpmTEzi3bvBHMM9H66vVXjL\n",
    "</details>\n"
   ]
  },
  {
   "attachments": {},
   "cell_type": "markdown",
   "metadata": {},
   "source": [
    "#### Level2\n",
    "https://overthewire.org/wargames/bandit/bandit2.html<br>\n",
    "\n",
    "1. Logout from the server with `logout` command.\n",
    "1. `ls` command lists the available folders and files under the working directory. You should see a single file called `-`.\n",
    "2. You cant write `cat -` because the system expects a flag after `-`. So to work around this you have to use `>` if you work with a file starting with `-`.\n",
    "3. Use `cat >-` to view the content of the file.\n",
    "<details>\n",
    "<summary>!!SPOILER!! Password found:</summary>\n",
    "rRGizSaX8Mk1RTb1CNQoXTcYZWU6lgzi\n",
    "</details>"
   ]
  },
  {
   "attachments": {},
   "cell_type": "markdown",
   "metadata": {},
   "source": [
    "#### Level3\n",
    "https://overthewire.org/wargames/bandit/bandit3.html<br>\n",
    "\n",
    "1. Next main directory contains a file with spaces in the name.\n",
    "2. Use `cat sp` and hit tab.\n",
    "3. The autocomplete shows how can you work with file names that contain spaces. Just use `\"\\ \"` instead of space.\n",
    "<details>\n",
    "<summary>!!SPOILER!! Password found:</summary>\n",
    "aBZ0W5EmUfAf7kHTQeOwd8bauFJ2lAiG\n",
    "</details>"
   ]
  },
  {
   "attachments": {},
   "cell_type": "markdown",
   "metadata": {},
   "source": [
    "#### Level4\n",
    "https://overthewire.org/wargames/bandit/bandit4.html<br>\n",
    "\n",
    "1. First change the directory (`cd` command) to inhere using `cd inhere`.\n",
    "2. Using `ls` won't work with hidden files. Use the `-a` flag to display hidden files as well. Type `ls -a`. You should see a file called `.hidden`.\n",
    "3. Use `cat .hidden` to display content.\n",
    "<details>\n",
    "<summary>!!SPOILER!! Password found:</summary>\n",
    "2EW7BBsr6aMMoJ2HjW067dm8EgX26xNe\n",
    "</details>"
   ]
  },
  {
   "attachments": {},
   "cell_type": "markdown",
   "metadata": {},
   "source": [
    "#### Level5\n",
    "https://overthewire.org/wargames/bandit/bandit5.html<br>\n",
    "\n",
    "1. The `file` command helps to determine the type of a file and its data.\n",
    "2. Using `file *` lists information about all the files in the directory, but files starting with `-` will be a problem.\n",
    "3. Use `file ./*` to handle this. Basically `./` means look in the current directory and this will solve the problem.\n",
    "4. Only one file is an ASCII text, that's `-file07`.\n",
    "5. `cat <-file07` or `cat ./-file07`\n",
    "<details>\n",
    "<summary>!!SPOILER!! Password found:</summary>\n",
    "lrIWWI6bB37kxfiCQZqUdOIYfr6eEeqR\n",
    "</details>"
   ]
  },
  {
   "attachments": {},
   "cell_type": "markdown",
   "metadata": {},
   "source": [
    "#### Level6\n",
    "https://overthewire.org/wargames/bandit/bandit6.html<br>\n",
    "\n",
    "1. It's easy to find this based on its size, since no other files with the size of 1033 bytes.\n",
    "2. The find command helps to explore a file hierarchy, you can search by type, owner, date, size, etc...<br>\n",
    "Use `find -size 1033c`, to search by size, 1 char = 1 byte.\n",
    "3. Cat the found file.\n",
    "<details>\n",
    "<summary>!!SPOILER!! Password found:</summary>\n",
    "P4L4vucdmLnm8I7Vl7jG1ApGSfjYKqJU\n",
    "</details>"
   ]
  },
  {
   "attachments": {},
   "cell_type": "markdown",
   "metadata": {},
   "source": [
    "#### Level7\n",
    "https://overthewire.org/wargames/bandit/bandit7.html<br>\n",
    "\n",
    "1. You have to use the `find` command again.\n",
    "2. Use `/` as location to search the whole server. Type the size which is 33 bytes.\n",
    "3. Find files by owner with flag `-user` owner group with flag `-group`\n",
    "4. A trick to avoid a lot of files which give errors, you can use `2>/dev/null`. This gets rid of the basic error messages (2) and redirects them from the terminal, so you won't have to see them, making the search easier.\n",
    "5. Full command `find / -size 33c -user bandit7 -group bandit6 2>/dev/null`.\n",
    "6. Cat the found file.\n",
    "<details>\n",
    "<summary>!!SPOILER!! Password found:</summary>\n",
    "z7WtoNQU2XfjmMtWA8u5rN4vzqu4v99S\n",
    "</details>"
   ]
  },
  {
   "attachments": {},
   "cell_type": "markdown",
   "metadata": {},
   "source": [
    "#### Level8\n",
    "https://overthewire.org/wargames/bandit/bandit8.html<br>\n",
    "\n",
    "1. `grep` (global search for regular expression and print out) helps you to look for a particular pattern of characters.\n",
    "2. Also you need to use `|` called a pipe, which is a form of redirection that lets you to pass a command's output to another command's input.\n",
    "3. `cat data.txt | grep millionth` looks for the line with the word `millionth`.\n",
    "4. That should give you the password.\n",
    "<details>\n",
    "<summary>!!SPOILER!! Password found:</summary>\n",
    "TESKZC0XvTetK0S9xNwm25STk5iWrBvP\n",
    "</details>"
   ]
  },
  {
   "attachments": {},
   "cell_type": "markdown",
   "metadata": {},
   "source": [
    "#### Level9\n",
    "https://overthewire.org/wargames/bandit/bandit9.html<br>\n",
    "\n",
    "1. `uniq` helps to filter out repeated lines.\n",
    "2. Using `uniq` with the flag `-u` only displays the non-repeated lines.\n",
    "3. Most of the rows occur more then once in the file, but not after each other, it's gambled up, so to find the unique password you have to sort the file first with the command `sort`.\n",
    "4. The whole command is `sort data.txt | uniq -u`.\n",
    "<details>\n",
    "<summary>!!SPOILER!! Password found:</summary>\n",
    "EN632PlfYiZbn3PhVK3XOGSlNInNE00t\n",
    "</details>"
   ]
  },
  {
   "attachments": {},
   "cell_type": "markdown",
   "metadata": {},
   "source": [
    "#### Level10\n",
    "https://overthewire.org/wargames/bandit/bandit10.html<br>\n",
    "\n",
    "1. `strings` command only displays human-readable strings in a file.\n",
    "2. Combine it with `grep` to look for the `=`s.\n",
    "3. So the whole command is an easy `strings data.txt | grep ==`, which should give you the password.\n",
    "<details>\n",
    "<summary>!!SPOILER!! Password found:</summary>\n",
    "G7w8LIi6J3kTb8A7j9LgrywtEUlyyp6s\n",
    "</details>"
   ]
  }
 ],
 "metadata": {
  "language_info": {
   "name": "python"
  },
  "orig_nbformat": 4
 },
 "nbformat": 4,
 "nbformat_minor": 2
}
